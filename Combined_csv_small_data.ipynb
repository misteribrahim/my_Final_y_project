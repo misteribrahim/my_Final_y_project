{
 "cells": [
  {
   "cell_type": "markdown",
   "id": "cd675f1d",
   "metadata": {},
   "source": [
    "# WEBSITE CLASSIFICATION"
   ]
  },
  {
   "cell_type": "markdown",
   "id": "1f0e83fe",
   "metadata": {},
   "source": [
    "To build a web classification model, we used the DMOZ dataset, a large communally maintained open directory that categorizes web content. DMOZ closed in 2017, because AOL no longer wished to support the project. We found the split version of the dataset in a Github repository.\n",
    "\n",
    "The dataset contains 10 columns, which are: - id - url - title - description - priority - topic - topicId - stemd - topTerms - topStems\n",
    "\n",
    "Dataset: https://github.com/ALSAREM/dmozNeo4j"
   ]
  },
  {
   "cell_type": "markdown",
   "id": "e5a673c4",
   "metadata": {},
   "source": [
    "# Combine CSV Files"
   ]
  },
  {
   "cell_type": "markdown",
   "id": "3387df73",
   "metadata": {},
   "source": [
    "There are 37 CSV files in the repository. In total, they contain more than 2 million entries. Due to performance issues, we only used 500 rows from each document and combined them into one CSV file."
   ]
  },
  {
   "cell_type": "code",
   "execution_count": null,
   "id": "3f532bd9",
   "metadata": {
    "is_executing": true
   },
   "outputs": [],
   "source": [
    "import os\n",
    "import glob\n",
    "import pandas as pd"
   ]
  },
  {
   "cell_type": "code",
   "execution_count": 2,
   "id": "76820c39",
   "metadata": {
    "ExecuteTime": {
     "end_time": "2024-06-06T22:57:03.221105500Z",
     "start_time": "2024-06-06T22:57:02.036756500Z"
    }
   },
   "outputs": [
    {
     "ename": "NameError",
     "evalue": "name 'os' is not defined",
     "output_type": "error",
     "traceback": [
      "\u001B[1;31m---------------------------------------------------------------------------\u001B[0m",
      "\u001B[1;31mNameError\u001B[0m                                 Traceback (most recent call last)",
      "Cell \u001B[1;32mIn[2], line 1\u001B[0m\n\u001B[1;32m----> 1\u001B[0m cwd \u001B[38;5;241m=\u001B[39m \u001B[43mos\u001B[49m\u001B[38;5;241m.\u001B[39mgetcwd()\n\u001B[0;32m      2\u001B[0m extension \u001B[38;5;241m=\u001B[39m \u001B[38;5;124m'\u001B[39m\u001B[38;5;124mcsv\u001B[39m\u001B[38;5;124m'\u001B[39m\n\u001B[0;32m      3\u001B[0m all_filenames \u001B[38;5;241m=\u001B[39m [i \u001B[38;5;28;01mfor\u001B[39;00m i \u001B[38;5;129;01min\u001B[39;00m glob\u001B[38;5;241m.\u001B[39mglob(\u001B[38;5;124m'\u001B[39m\u001B[38;5;124m*.\u001B[39m\u001B[38;5;132;01m{}\u001B[39;00m\u001B[38;5;124m'\u001B[39m\u001B[38;5;241m.\u001B[39mformat(extension))]\n",
      "\u001B[1;31mNameError\u001B[0m: name 'os' is not defined"
     ]
    }
   ],
   "source": [
    "cwd = os.getcwd()\n",
    "extension = 'csv'\n",
    "all_filenames = [i for i in glob.glob('*.{}'.format(extension))]\n",
    "combined_csv = pd.concat([pd.read_csv(f, nrows=500) for f in all_filenames])\n",
    "combined_csv.to_csv(\"combined_csv_small_data.csv\", index=False, encoding='utf-8-sig')"
   ]
  },
  {
   "cell_type": "code",
   "execution_count": null,
   "outputs": [],
   "source": [],
   "metadata": {
    "collapsed": false
   },
   "id": "a9e59d957a264019"
  }
 ],
 "metadata": {
  "kernelspec": {
   "display_name": "Python 3 (ipykernel)",
   "language": "python",
   "name": "python3"
  },
  "language_info": {
   "codemirror_mode": {
    "name": "ipython",
    "version": 3
   },
   "file_extension": ".py",
   "mimetype": "text/x-python",
   "name": "python",
   "nbconvert_exporter": "python",
   "pygments_lexer": "ipython3",
   "version": "3.10.9"
  }
 },
 "nbformat": 4,
 "nbformat_minor": 5
}
