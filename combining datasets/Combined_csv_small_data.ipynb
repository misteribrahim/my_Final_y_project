{
 "cells": [
  {
   "cell_type": "markdown",
   "id": "cd675f1d",
   "metadata": {},
   "source": [
    "# WEBSITE CLASSIFICATION"
   ]
  },
  {
   "cell_type": "markdown",
   "id": "1f0e83fe",
   "metadata": {},
   "source": [
    "To build a web classification model, we used the DMOZ dataset, a large communally maintained open directory that categorizes web content. DMOZ closed in 2017, because AOL no longer wished to support the project. We found the split version of the dataset in a Github repository.\n",
    "\n",
    "The dataset contains 10 columns, which are: - id - url - title - description - priority - topic - topicId - stemd - topTerms - topStems\n",
    "\n",
    "Dataset: https://github.com/ALSAREM/dmozNeo4j"
   ]
  },
  {
   "cell_type": "markdown",
   "id": "e5a673c4",
   "metadata": {},
   "source": [
    "# Combine CSV Files"
   ]
  },
  {
   "cell_type": "markdown",
   "id": "3387df73",
   "metadata": {},
   "source": [
    "There are 37 CSV files in the repository. In total, they contain more than 2 million entries. Due to performance issues, we only used 30,000 rows from each document and combined them into one CSV file."
   ]
  },
  {
   "cell_type": "code",
   "execution_count": 1,
   "id": "3f532bd9",
   "metadata": {},
   "outputs": [],
   "source": [
    "import os\n",
    "import glob\n",
    "import pandas as pd"
   ]
  },
  {
   "cell_type": "code",
   "execution_count": 2,
   "id": "76820c39",
   "metadata": {},
   "outputs": [],
   "source": [
    "cwd = os.getcwd()\n",
    "extension = 'csv'\n",
    "all_filenames = [i for i in glob.glob('*.{}'.format(extension))]\n",
    "combined_csv = pd.concat([pd.read_csv(f, nrows=30000) for f in all_filenames])\n",
    "combined_csv.to_csv(\"combined_csv_small_data.csv\", index=False, encoding='utf-8-sig')"
   ]
  },
  {
   "cell_type": "code",
   "execution_count": null,
   "id": "7fd3b03e",
   "metadata": {},
   "outputs": [],
   "source": []
  }
 ],
 "metadata": {
  "kernelspec": {
   "display_name": "Python 3 (ipykernel)",
   "language": "python",
   "name": "python3"
  },
  "language_info": {
   "codemirror_mode": {
    "name": "ipython",
    "version": 3
   },
   "file_extension": ".py",
   "mimetype": "text/x-python",
   "name": "python",
   "nbconvert_exporter": "python",
   "pygments_lexer": "ipython3",
   "version": "3.10.9"
  }
 },
 "nbformat": 4,
 "nbformat_minor": 5
}
